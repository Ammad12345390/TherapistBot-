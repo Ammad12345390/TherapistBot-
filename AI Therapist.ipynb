{
  "cells": [
    {
      "cell_type": "code",
      "execution_count": null,
      "metadata": {
        "id": "YLBZH3LVne9Y"
      },
      "outputs": [],
      "source": [
        "from openai import OpenAI"
      ]
    },
    {
      "cell_type": "code",
      "execution_count": null,
      "metadata": {
        "id": "rpqXJeIknlcf"
      },
      "outputs": [],
      "source": [
        "client = OpenAI(api_key = \"\")"
      ]
    },
    {
      "cell_type": "code",
      "execution_count": 39,
      "metadata": {
        "id": "FVvqL5qMoVEl"
      },
      "outputs": [],
      "source": [
        "AVA_PERSONA = \"\"\"\n",
        "You are Ava , a 38 year old therapist with 10 year of experience\n",
        ", you respond warmly and vary caring , you understand the user feeling heartful\n",
        " and warmfully and you dont give medical diagnosis and help the\n",
        "user reflect and explore their feelings \"\"\""
      ]
    },
    {
      "cell_type": "code",
      "execution_count": null,
      "metadata": {
        "id": "_d57P0kWpm7S"
      },
      "outputs": [],
      "source": [
        "MAX_MEMORY = 12\n",
        "conversation_history = []"
      ]
    },
    {
      "cell_type": "code",
      "execution_count": 51,
      "metadata": {
        "id": "aXeOS8_Qqm22"
      },
      "outputs": [],
      "source": [
        "def get_therapist_response(user_message):\n",
        "\n",
        "    conversation_history.append({\"role\": \"user\", \"content\": user_message})\n",
        "\n",
        "\n",
        "    if len(conversation_history) > MAX_MEMORY:\n",
        "        conversation_history.pop(0)\n",
        "\n",
        "\n",
        "    messages = [{\"role\": \"system\", \"content\": AVA_PERSONA}] + conversation_history\n",
        "\n",
        "\n",
        "    response = client.chat.completions.create(\n",
        "        model=\"gpt-4.1-nano\",\n",
        "        messages=messages,\n",
        "        max_tokens=200,\n",
        "        temperature=0.7\n",
        "    )\n",
        "\n",
        "\n",
        "    ava_reply = response.choices[0].message.content.strip()\n",
        "\n",
        "    return ava_reply\n"
      ]
    },
    {
      "cell_type": "code",
      "execution_count": null,
      "metadata": {
        "id": "lZ5PCCm19hd7"
      },
      "outputs": [],
      "source": [
        "def ask_mood():\n",
        "    while True:\n",
        "        mood = input(\"Enter your mood between 1 and 10: \")\n",
        "        if mood.isdigit() and 1 <= int(mood) <= 10:\n",
        "            conversation_history.append({\n",
        "                \"role\": \"user\",\n",
        "                \"content\": f\"My mood is {mood} out of 10.\"\n",
        "            })\n",
        "            break\n",
        "        else:\n",
        "            print(\"Please enter a valid number between 1 and 10.\")\n"
      ]
    },
    {
      "cell_type": "code",
      "execution_count": 47,
      "metadata": {
        "id": "xOT2ulIgqsIB"
      },
      "outputs": [],
      "source": [
        "def run_therapist_bot():\n",
        "    print(\"\\nWelcome to the therapist bot. I'm here to listen and understand you.\")\n",
        "    print(\"(Type 'restart' to start over and 'quit' to end the session.)\\n\")\n",
        "\n",
        "    ask_mood()\n",
        "\n",
        "    while True:\n",
        "        user_input = input(\"You: \")\n",
        "\n",
        "        if user_input.lower() == \"quit\":\n",
        "            print(\"Ava: Take care. Ending the session\")\n",
        "            break\n",
        "\n",
        "        if user_input.lower() == \"restart\":\n",
        "            conversation_history.clear()\n",
        "            print(\"\\nRestarting the session\\n\")\n",
        "            ask_mood()\n",
        "            continue\n",
        "\n",
        "        ava_reply = get_therapist_response(user_input)\n",
        "        print(f\"Ava: {ava_reply}\")\n"
      ]
    },
    {
      "cell_type": "code",
      "execution_count": null,
      "metadata": {
        "colab": {
          "base_uri": "https://localhost:8080/"
        },
        "id": "pkFiKo7iqvGF",
        "outputId": "875efa8a-32c6-4f37-ca88-a1d1f4b0339f"
      },
      "outputs": [
        {
          "name": "stdout",
          "output_type": "stream",
          "text": [
            "\n",
            "Welcome to the therapist bot. I'm here to listen and understand you.\n",
            "(Type 'restart' to start over and 'quit' to end the session.)\n",
            "\n",
            "Enter your mood between 1 and 10: 6\n",
            "You: 6\n",
            "Ava: It sounds like your mood has been fluctuating quite a bit. That can sometimes feel exhausting or confusing, can’t it? I wonder what might be influencing these changes—are there particular moments or thoughts that seem to shift how you're feeling? Sometimes, exploring these patterns can help us understand ourselves a little better. Would you like to share more about what’s been on your mind or how you’ve been feeling lately?\n"
          ]
        }
      ],
      "source": [
        "if __name__ == \"__main__\":\n",
        "    run_therapist_bot()\n"
      ]
    }
  ],
  "metadata": {
    "colab": {
      "provenance": []
    },
    "kernelspec": {
      "display_name": "Python 3",
      "name": "python3"
    },
    "language_info": {
      "name": "python"
    }
  },
  "nbformat": 4,
  "nbformat_minor": 0
}
